{
 "cells": [
  {
   "cell_type": "markdown",
   "metadata": {},
   "source": [
    "# My Jupyter Notebook on IBM Watson Studio"
   ]
  },
  {
   "cell_type": "markdown",
   "metadata": {},
   "source": [
    "Hello, Im Jon Vasquez i plan to be a data scientist in the near fuutre and i am starting with this course to begin my career."
   ]
  },
  {
   "cell_type": "markdown",
   "metadata": {},
   "source": [
    "Data Scienece Languages:<br>\n",
    "Python, SQL, Java, Julia, Scala"
   ]
  },
  {
   "cell_type": "markdown",
   "metadata": {},
   "source": [
    "Data Science Libraries:<br>\n",
    "Pandas, TensorFlow, NumPY, SciPY"
   ]
  },
  {
   "cell_type": "markdown",
   "metadata": {},
   "source": [
    "\n",
    "| No. | Data Science Tools |\n",
    "| --- | --- |\n",
    "| 1 | Jupyter |\n",
    "| 2 | BigML |\n",
    "| 3 | Apache Spark |\n",
    "| 4 | Excel |"
   ]
  },
  {
   "cell_type": "markdown",
   "metadata": {},
   "source": [
    "Here are some examples of the Arithmatic Expresessions<br>\n",
    "Addition, \n",
    ": 1 + 1;\n",
    "\n",
    "Subtraction, \n",
    ": 2 - 1;\n",
    "\n",
    "Multiplication, \n",
    ": 3 * 2;\n",
    "\n",
    "Division, \n",
    ": 12 / 4;"
   ]
  },
  {
   "cell_type": "code",
   "execution_count": 2,
   "metadata": {},
   "outputs": [
    {
     "data": {
      "text/plain": [
       "5"
      ]
     },
     "execution_count": 2,
     "metadata": {},
     "output_type": "execute_result"
    }
   ],
   "source": [
    " (2*2)+1"
   ]
  },
  {
   "cell_type": "code",
   "execution_count": 17,
   "metadata": {},
   "outputs": [
    {
     "name": "stdout",
     "output_type": "stream",
     "text": [
      "Minutes: 120\n",
      "Hours-> 2\n"
     ]
    }
   ],
   "source": [
    "time = float(input(\"Minutes: \"))\n",
    "time = time % (24 * 60)\n",
    "hour = time // 60\n",
    "time %= 60\n",
    "minutes = time // 1\n",
    "time %= 1\n",
    "print(\"Hours-> %d\" % (hour))"
   ]
  },
  {
   "cell_type": "markdown",
   "metadata": {},
   "source": [
    "<i>The objective of the above cell is to convert minutes given into hours.<i>"
   ]
  },
  {
   "cell_type": "markdown",
   "metadata": {},
   "source": [
    "-Jon Vasquez"
   ]
  }
 ],
 "metadata": {
  "celltoolbar": "Edit Metadata",
  "kernelspec": {
   "display_name": "Python 3.9 with Spark",
   "language": "python3",
   "name": "python39"
  },
  "language_info": {
   "codemirror_mode": {
    "name": "ipython",
    "version": 3
   },
   "file_extension": ".py",
   "mimetype": "text/x-python",
   "name": "python",
   "nbconvert_exporter": "python",
   "pygments_lexer": "ipython3",
   "version": "3.9.13"
  }
 },
 "nbformat": 4,
 "nbformat_minor": 1
}
